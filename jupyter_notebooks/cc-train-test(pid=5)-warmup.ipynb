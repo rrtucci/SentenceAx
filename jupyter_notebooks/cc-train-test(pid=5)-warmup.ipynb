{
 "cells": [
  {
   "cell_type": "markdown",
   "id": "a21bfe53-38da-4383-8f22-72a6612a24f0",
   "metadata": {},
   "source": [
    "# cc-train_test(pid=5)"
   ]
  },
  {
   "cell_type": "code",
   "execution_count": null,
   "id": "c9e3a604-724d-4fa1-bdc1-486cc8322d31",
   "metadata": {},
   "outputs": [],
   "source": [
    "# this makes sure it starts looking for things from the SentenceAx folder down.\n",
    "import os\n",
    "import sys\n",
    "os.chdir('../')\n",
    "sys.path.insert(0,os.getcwd())\n",
    "print(os.getcwd())"
   ]
  },
  {
   "cell_type": "code",
   "execution_count": null,
   "id": "752f3d00-67db-4e93-bf08-7169fe092e4e",
   "metadata": {},
   "outputs": [],
   "source": [
    "os.environ[\"TOKENIZERS_PARALLELISM\"] = \"false\"\n",
    "print(os.environ[\"TOKENIZERS_PARALLELISM\"])"
   ]
  },
  {
   "cell_type": "code",
   "execution_count": null,
   "id": "91bf119f-ae39-4070-b9b3-c5cfe13b0a07",
   "metadata": {},
   "outputs": [],
   "source": [
    "from Params import *\n",
    "from ActionConductor import *\n",
    "\n",
    "\n",
    "def main(pid):\n",
    "    params = Params(pid)\n",
    "    params.d[\"refresh_cache\"] = True\n",
    "    params.d[\"gpus\"] = 0\n",
    "    params.d[\"num_epochs\"] = 1\n",
    "    params.d[\"num_steps_per_epoch\"] = 1\n",
    "    params.d[\"model_str\"] = \"bert-base-cased\"\n",
    "    params.describe_self()\n",
    "    conductor = ActionConductor(params, verbose_model=True)\n",
    "    print(\"checkpoints:\", conductor.get_all_checkpoint_fp())\n",
    "    conductor.run()\n",
    "    print(\"checkpoints:\", conductor.get_all_checkpoint_fp())"
   ]
  },
  {
   "cell_type": "code",
   "execution_count": null,
   "id": "dfed0d9d-76ea-4231-9fab-1e8d0e9b5a67",
   "metadata": {
    "tags": []
   },
   "outputs": [],
   "source": [
    "main(5)"
   ]
  }
 ],
 "metadata": {
  "kernelspec": {
   "display_name": "Python 3 (ipykernel)",
   "language": "python",
   "name": "python3"
  },
  "language_info": {
   "codemirror_mode": {
    "name": "ipython",
    "version": 3
   },
   "file_extension": ".py",
   "mimetype": "text/x-python",
   "name": "python",
   "nbconvert_exporter": "python",
   "pygments_lexer": "ipython3",
   "version": "3.10.9"
  },
  "widgets": {
   "application/vnd.jupyter.widget-state+json": {
    "state": {
     "12c9274222024a069fe325ba2856af74": {
      "model_module": "@jupyter-widgets/base",
      "model_module_version": "1.2.0",
      "model_name": "LayoutModel",
      "state": {}
     },
     "4b14dd7bbae24a1bb07045b4b797bd7f": {
      "model_module": "@jupyter-widgets/base",
      "model_module_version": "1.2.0",
      "model_name": "LayoutModel",
      "state": {}
     },
     "5d04bb55c124427db4546f96fb92a281": {
      "model_module": "@jupyter-widgets/controls",
      "model_module_version": "1.5.0",
      "model_name": "DescriptionStyleModel",
      "state": {
       "description_width": ""
      }
     },
     "69fa0f33d974433186269dffa04a9118": {
      "model_module": "@jupyter-widgets/controls",
      "model_module_version": "1.5.0",
      "model_name": "HTMLModel",
      "state": {
       "layout": "IPY_MODEL_4b14dd7bbae24a1bb07045b4b797bd7f",
       "style": "IPY_MODEL_7fde92a49b974da48a80390296730b95",
       "value": " 2/2 [00:23&lt;00:00,  0.08it/s]"
      }
     },
     "7fde92a49b974da48a80390296730b95": {
      "model_module": "@jupyter-widgets/controls",
      "model_module_version": "1.5.0",
      "model_name": "DescriptionStyleModel",
      "state": {
       "description_width": ""
      }
     },
     "9e8296701d9e45e9bc241f9125d30519": {
      "model_module": "@jupyter-widgets/controls",
      "model_module_version": "1.5.0",
      "model_name": "FloatProgressModel",
      "state": {
       "layout": "IPY_MODEL_a07c03ba0cb84fb9be38308df0998e2f",
       "max": 2,
       "style": "IPY_MODEL_de3d5e5765dc4e22b8b86509ac7c2add",
       "value": 2
      }
     },
     "a066a188c45a48ae9e856a4fa30832b3": {
      "model_module": "@jupyter-widgets/controls",
      "model_module_version": "1.5.0",
      "model_name": "HBoxModel",
      "state": {
       "children": [
        "IPY_MODEL_b3b792f8b2bd4059a5377abb93c9e5be",
        "IPY_MODEL_9e8296701d9e45e9bc241f9125d30519",
        "IPY_MODEL_69fa0f33d974433186269dffa04a9118"
       ],
       "layout": "IPY_MODEL_cd5f28f139ff4ac0942159240d6ca50b"
      }
     },
     "a07c03ba0cb84fb9be38308df0998e2f": {
      "model_module": "@jupyter-widgets/base",
      "model_module_version": "1.2.0",
      "model_name": "LayoutModel",
      "state": {
       "flex": "2"
      }
     },
     "b3b792f8b2bd4059a5377abb93c9e5be": {
      "model_module": "@jupyter-widgets/controls",
      "model_module_version": "1.5.0",
      "model_name": "HTMLModel",
      "state": {
       "layout": "IPY_MODEL_12c9274222024a069fe325ba2856af74",
       "style": "IPY_MODEL_5d04bb55c124427db4546f96fb92a281",
       "value": "Sanity Checking DataLoader 0: 100%"
      }
     },
     "cd5f28f139ff4ac0942159240d6ca50b": {
      "model_module": "@jupyter-widgets/base",
      "model_module_version": "1.2.0",
      "model_name": "LayoutModel",
      "state": {
       "display": "inline-flex",
       "flex_flow": "row wrap",
       "width": "100%"
      }
     },
     "de3d5e5765dc4e22b8b86509ac7c2add": {
      "model_module": "@jupyter-widgets/controls",
      "model_module_version": "1.5.0",
      "model_name": "ProgressStyleModel",
      "state": {
       "description_width": ""
      }
     }
    },
    "version_major": 2,
    "version_minor": 0
   }
  }
 },
 "nbformat": 4,
 "nbformat_minor": 5
}
