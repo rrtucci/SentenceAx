{
 "cells": [
  {
   "cell_type": "markdown",
   "id": "07c438f4-4a6c-48f1-be15-b60ad25888ca",
   "metadata": {},
   "source": [
    "# ex-train_test(pid=1)"
   ]
  },
  {
   "cell_type": "code",
   "execution_count": 1,
   "id": "3bdaa0e0-3004-4eaa-9877-bbca287eccd2",
   "metadata": {},
   "outputs": [
    {
     "name": "stdout",
     "output_type": "stream",
     "text": [
      "/home/studio-lab-user/sagemaker-studiolab-notebooks/SentenceAx\n"
     ]
    }
   ],
   "source": [
    "# this makes sure it starts looking for things from the scumpy folder down.\n",
    "import os\n",
    "import sys\n",
    "os.chdir('../')\n",
    "sys.path.insert(0,os.getcwd())\n",
    "print(os.getcwd())"
   ]
  },
  {
   "cell_type": "code",
   "execution_count": 2,
   "id": "b0f9fa23-d7c2-4c5a-a16f-38dfd02c2f89",
   "metadata": {
    "tags": []
   },
   "outputs": [
    {
     "name": "stdout",
     "output_type": "stream",
     "text": [
      "false\n"
     ]
    }
   ],
   "source": [
    "os.environ[\"TOKENIZERS_PARALLELISM\"] = \"false\"\n",
    "print(os.environ[\"TOKENIZERS_PARALLELISM\"])"
   ]
  },
  {
   "cell_type": "code",
   "execution_count": 3,
   "id": "bf61af3b-4c82-4860-9641-e631e5107e5c",
   "metadata": {},
   "outputs": [
    {
     "name": "stdout",
     "output_type": "stream",
     "text": [
      "lightning version is equal to or greater than 2.1.0\n"
     ]
    }
   ],
   "source": [
    "from Params import *\n",
    "from MConductor import *\n",
    "\n",
    "\n",
    "def main(pid):\n",
    "    params = Params(pid)\n",
    "    params.d[\"refresh_cache\"] = True\n",
    "    params.d[\"gpus\"] = 0\n",
    "    conductor = MConductor(params, verbose_model= True)\n",
    "    conductor.run()"
   ]
  },
  {
   "cell_type": "code",
   "execution_count": 4,
   "id": "2a2a9f60-9297-4129-8dd0-edc71196421d",
   "metadata": {
    "tags": []
   },
   "outputs": [
    {
     "name": "stdout",
     "output_type": "stream",
     "text": [
      "***************** new params\n",
      "new params: pid=1, task='ex', mode='train_test'\n",
      "params=\n",
      "{'accumulate_grad_batches': 1,\n",
      " 'batch_size': 24,\n",
      " 'con_weight_str': '1',\n",
      " 'do_rescoring': False,\n",
      " 'dropout_fun': 0.0,\n",
      " 'epochs': 30,\n",
      " 'gpus': 1,\n",
      " 'gradient_clip_val': 5,\n",
      " 'iterative_layers': 2,\n",
      " 'lr': 2e-05,\n",
      " 'mode': 'train_test',\n",
      " 'model_str': 'bert-base-cased',\n",
      " 'num_extractions': 5,\n",
      " 'optimizer': 'adamW',\n",
      " 'refresh_cache': False,\n",
      " 'save_k': 1,\n",
      " 'suggested_checkpoint_fp': '',\n",
      " 'task': 'ex',\n",
      " 'val_check_interval': 1.0,\n",
      " 'wreg': 0,\n",
      " 'write_allen_file': True,\n",
      " 'write_extags_file': True}\n",
      "\n",
      "MInput started reading 'input_data/carb-data/test.txt'\n",
      "\n",
      "MInput finished reading 'input_data/carb-data/test.txt'\n",
      "number of lines= 1283\n",
      "number of used samples=  642\n",
      "number of omitted samples=  0\n",
      "\n",
      "MInput started reading 'input_data/carb-data/dev.txt'\n",
      "\n",
      "MInput finished reading 'input_data/carb-data/dev.txt'\n",
      "number of lines= 1283\n",
      "number of used samples=  642\n",
      "number of omitted samples=  0\n",
      "\n",
      "MInput started reading 'input_data/carb-data/test.txt'\n",
      "\n",
      "MInput finished reading 'input_data/carb-data/test.txt'\n",
      "number of lines= 1283\n",
      "number of used samples=  642\n",
      "number of omitted samples=  0\n"
     ]
    },
    {
     "name": "stderr",
     "output_type": "stream",
     "text": [
      "GPU available: False, used: False\n",
      "TPU available: False, using: 0 TPU cores\n",
      "IPU available: False, using: 0 IPUs\n",
      "HPU available: False, using: 0 HPUs\n"
     ]
    },
    {
     "name": "stdout",
     "output_type": "stream",
     "text": [
      "Retiring current log file by changing its name\n",
      "logs/ex/train_1\n"
     ]
    },
    {
     "name": "stderr",
     "output_type": "stream",
     "text": [
      "\n",
      "  | Name                  | Type             | Params\n",
      "-----------------------------------------------------------\n",
      "0 | base_model            | BertModel        | 94.1 M\n",
      "1 | iterative_transformer | ModuleList       | 0     \n",
      "2 | dropout_fun           | Dropout          | 0     \n",
      "3 | embedding             | Embedding        | 76.8 K\n",
      "4 | merge_layer           | Linear           | 230 K \n",
      "5 | ilabelling_layer      | Linear           | 1.8 K \n",
      "6 | loss_fun              | CrossEntropyLoss | 0     \n",
      "-----------------------------------------------------------\n",
      "94.4 M    Trainable params\n",
      "0         Non-trainable params\n",
      "94.4 M    Total params\n",
      "377.775   Total estimated model params size (MB)\n"
     ]
    },
    {
     "data": {
      "application/vnd.jupyter.widget-view+json": {
       "model_id": "",
       "version_major": 2,
       "version_minor": 0
      },
      "text/plain": [
       "Sanity Checking: |          | 0/? [00:00<?, ?it/s]"
      ]
     },
     "metadata": {},
     "output_type": "display_data"
    },
    {
     "name": "stdout",
     "output_type": "stream",
     "text": [
      "Entering 'Model.validation_step' method, batch_idx=0\n",
      "Entering 'Model.validation_step' method, batch_idx=1\n",
      "Entering 'Model.on_validation_epoch_end' method\n",
      "Entering ExMetric.__call__() method.\n",
      "Entering ExMetric.__call__() method.\n",
      "osentL_to_exs has already been entered in the ExMetric constructor\n",
      "Entering ExMetric.get_score_d() method.\n",
      "mjkl []\n",
      "mjkl [tensor(0.2000)]\n",
      "mjkl []\n",
      "mjkl [tensor(0.0900), tensor(0.1000)]\n",
      "mjkl [tensor(0.0100), tensor(0.0200), tensor(0.0200)]\n",
      "mjkl [tensor(0.2000), tensor(0.2100), tensor(0.2400), tensor(0.1900)]\n",
      "mjkl []\n",
      "mjkl []\n",
      "mjkl [tensor(0.3400)]\n",
      "mjkl [tensor(0.1200)]\n",
      "mjkl []\n",
      "mjkl [tensor(0.)]\n",
      "mjkl []\n",
      "mjkl []\n",
      "mjkl [tensor(0.3700)]\n",
      "mjkl [tensor(0.1400)]\n",
      "mjkl []\n",
      "mjkl [tensor(0.4100)]\n",
      "mjkl [tensor(0.3300), tensor(0.3800)]\n",
      "mjkl []\n",
      "mjkl []\n",
      "mjkl []\n",
      "mjkl [tensor(0.3700)]\n",
      "mjkl [tensor(0.0200)]\n",
      "\n",
      "Epoch End Results:\n",
      "OrderedDict([('AUC', 0.0003),\n",
      "             ('F1', 0.0047),\n",
      "             ('last_F1', 0.0047),\n",
      "             ('eval_acc', 0.0047)])\n"
     ]
    },
    {
     "data": {
      "application/vnd.jupyter.widget-view+json": {
       "model_id": "d172a71897104301b4c9ec9043464f2d",
       "version_major": 2,
       "version_minor": 0
      },
      "text/plain": [
       "Training: |          | 0/? [00:00<?, ?it/s]"
      ]
     },
     "metadata": {},
     "output_type": "display_data"
    },
    {
     "name": "stdout",
     "output_type": "stream",
     "text": [
      "Entering 'Model.training_step' method, batch_idx=0\n",
      "Entering 'Model.training_step' method, batch_idx=1\n",
      "Entering 'Model.training_step' method, batch_idx=2\n",
      "Entering 'Model.training_step' method, batch_idx=3\n",
      "Entering 'Model.training_step' method, batch_idx=4\n",
      "Entering 'Model.training_step' method, batch_idx=5\n",
      "Entering 'Model.training_step' method, batch_idx=6\n",
      "Entering 'Model.training_step' method, batch_idx=7\n",
      "Entering 'Model.training_step' method, batch_idx=8\n",
      "Entering 'Model.training_step' method, batch_idx=9\n",
      "Entering 'Model.training_step' method, batch_idx=10\n",
      "Entering 'Model.training_step' method, batch_idx=11\n",
      "Entering 'Model.training_step' method, batch_idx=12\n",
      "Entering 'Model.training_step' method, batch_idx=13\n",
      "Entering 'Model.training_step' method, batch_idx=14\n",
      "Entering 'Model.training_step' method, batch_idx=15\n",
      "Entering 'Model.training_step' method, batch_idx=16\n",
      "Entering 'Model.training_step' method, batch_idx=17\n",
      "Entering 'Model.training_step' method, batch_idx=18\n",
      "Entering 'Model.training_step' method, batch_idx=19\n",
      "Entering 'Model.training_step' method, batch_idx=20\n",
      "Entering 'Model.training_step' method, batch_idx=21\n",
      "Entering 'Model.training_step' method, batch_idx=22\n",
      "Entering 'Model.training_step' method, batch_idx=23\n",
      "Entering 'Model.training_step' method, batch_idx=24\n",
      "Entering 'Model.training_step' method, batch_idx=25\n",
      "Entering 'Model.training_step' method, batch_idx=26\n"
     ]
    },
    {
     "data": {
      "application/vnd.jupyter.widget-view+json": {
       "model_id": "",
       "version_major": 2,
       "version_minor": 0
      },
      "text/plain": [
       "Validation: |          | 0/? [00:00<?, ?it/s]"
      ]
     },
     "metadata": {},
     "output_type": "display_data"
    },
    {
     "name": "stdout",
     "output_type": "stream",
     "text": [
      "Entering 'Model.validation_step' method, batch_idx=0\n",
      "Entering 'Model.validation_step' method, batch_idx=1\n",
      "Entering 'Model.validation_step' method, batch_idx=2\n",
      "Entering 'Model.validation_step' method, batch_idx=3\n",
      "Entering 'Model.validation_step' method, batch_idx=4\n",
      "Entering 'Model.validation_step' method, batch_idx=5\n",
      "Entering 'Model.validation_step' method, batch_idx=6\n",
      "Entering 'Model.validation_step' method, batch_idx=7\n",
      "Entering 'Model.validation_step' method, batch_idx=8\n",
      "Entering 'Model.validation_step' method, batch_idx=9\n",
      "Entering 'Model.validation_step' method, batch_idx=10\n",
      "Entering 'Model.validation_step' method, batch_idx=11\n",
      "Entering 'Model.validation_step' method, batch_idx=12\n",
      "Entering 'Model.validation_step' method, batch_idx=13\n",
      "Entering 'Model.validation_step' method, batch_idx=14\n",
      "Entering 'Model.validation_step' method, batch_idx=15\n",
      "Entering 'Model.validation_step' method, batch_idx=16\n",
      "Entering 'Model.validation_step' method, batch_idx=17\n",
      "Entering 'Model.validation_step' method, batch_idx=18\n",
      "Entering 'Model.validation_step' method, batch_idx=19\n",
      "Entering 'Model.validation_step' method, batch_idx=20\n",
      "Entering 'Model.validation_step' method, batch_idx=21\n",
      "Entering 'Model.validation_step' method, batch_idx=22\n",
      "Entering 'Model.validation_step' method, batch_idx=23\n",
      "Entering 'Model.validation_step' method, batch_idx=24\n",
      "Entering 'Model.validation_step' method, batch_idx=25\n",
      "Entering 'Model.validation_step' method, batch_idx=26\n"
     ]
    },
    {
     "name": "stderr",
     "output_type": "stream",
     "text": [
      "Epoch 0, global step 27: 'eval_acc' reached 0.00000 (best 0.00000), saving model to '/home/studio-lab-user/sagemaker-studiolab-notebooks/SentenceAx/weights/ex_model/epoch=00_eval_acc=0.000-v1.ckpt' as top 1\n"
     ]
    },
    {
     "name": "stdout",
     "output_type": "stream",
     "text": [
      "Entering 'Model.on_validation_epoch_end' method\n",
      "Entering ExMetric.__call__() method.\n",
      "Entering ExMetric.__call__() method.\n",
      "osentL_to_exs has already been entered in the ExMetric constructor\n",
      "Entering ExMetric.__call__() method.\n",
      "osentL_to_exs has already been entered in the ExMetric constructor\n",
      "Entering ExMetric.__call__() method.\n",
      "osentL_to_exs has already been entered in the ExMetric constructor\n",
      "Entering ExMetric.__call__() method.\n",
      "osentL_to_exs has already been entered in the ExMetric constructor\n",
      "Entering ExMetric.__call__() method.\n",
      "osentL_to_exs has already been entered in the ExMetric constructor\n",
      "Entering ExMetric.__call__() method.\n",
      "osentL_to_exs has already been entered in the ExMetric constructor\n",
      "Entering ExMetric.__call__() method.\n",
      "osentL_to_exs has already been entered in the ExMetric constructor\n",
      "Entering ExMetric.__call__() method.\n",
      "osentL_to_exs has already been entered in the ExMetric constructor\n",
      "Entering ExMetric.__call__() method.\n",
      "osentL_to_exs has already been entered in the ExMetric constructor\n",
      "Entering ExMetric.__call__() method.\n",
      "osentL_to_exs has already been entered in the ExMetric constructor\n",
      "Entering ExMetric.__call__() method.\n",
      "osentL_to_exs has already been entered in the ExMetric constructor\n",
      "Entering ExMetric.__call__() method.\n",
      "osentL_to_exs has already been entered in the ExMetric constructor\n",
      "Entering ExMetric.__call__() method.\n",
      "osentL_to_exs has already been entered in the ExMetric constructor\n",
      "Entering ExMetric.__call__() method.\n",
      "osentL_to_exs has already been entered in the ExMetric constructor\n",
      "Entering ExMetric.__call__() method.\n",
      "osentL_to_exs has already been entered in the ExMetric constructor\n",
      "Entering ExMetric.__call__() method.\n",
      "osentL_to_exs has already been entered in the ExMetric constructor\n",
      "Entering ExMetric.__call__() method.\n",
      "osentL_to_exs has already been entered in the ExMetric constructor\n",
      "Entering ExMetric.__call__() method.\n",
      "osentL_to_exs has already been entered in the ExMetric constructor\n",
      "Entering ExMetric.__call__() method.\n",
      "osentL_to_exs has already been entered in the ExMetric constructor\n",
      "Entering ExMetric.__call__() method.\n",
      "osentL_to_exs has already been entered in the ExMetric constructor\n",
      "Entering ExMetric.__call__() method.\n",
      "osentL_to_exs has already been entered in the ExMetric constructor\n",
      "Entering ExMetric.__call__() method.\n",
      "osentL_to_exs has already been entered in the ExMetric constructor\n",
      "Entering ExMetric.__call__() method.\n",
      "osentL_to_exs has already been entered in the ExMetric constructor\n",
      "Entering ExMetric.__call__() method.\n",
      "osentL_to_exs has already been entered in the ExMetric constructor\n",
      "Entering ExMetric.__call__() method.\n",
      "osentL_to_exs has already been entered in the ExMetric constructor\n",
      "Entering ExMetric.__call__() method.\n",
      "osentL_to_exs has already been entered in the ExMetric constructor\n",
      "Entering ExMetric.get_score_d() method.\n",
      "mjkl []\n",
      "mjkl []\n",
      "mjkl []\n",
      "mjkl []\n",
      "mjkl []\n",
      "mjkl []\n",
      "mjkl []\n",
      "mjkl []\n",
      "mjkl []\n",
      "mjkl []\n",
      "mjkl []\n",
      "mjkl []\n",
      "mjkl []\n",
      "mjkl []\n",
      "mjkl []\n",
      "mjkl []\n",
      "mjkl []\n",
      "mjkl []\n",
      "mjkl []\n",
      "mjkl []\n",
      "mjkl []\n",
      "mjkl []\n",
      "mjkl []\n",
      "mjkl []\n",
      "\n",
      "Epoch End Results:\n",
      "OrderedDict([('AUC', 0), ('F1', 0), ('last_F1', 0), ('eval_acc', 0)])\n",
      "Entering 'Model.training_step' method, batch_idx=0\n",
      "Entering 'Model.training_step' method, batch_idx=1\n",
      "Entering 'Model.training_step' method, batch_idx=2\n",
      "Entering 'Model.training_step' method, batch_idx=3\n",
      "Entering 'Model.training_step' method, batch_idx=4\n",
      "Entering 'Model.training_step' method, batch_idx=5\n",
      "Entering 'Model.training_step' method, batch_idx=6\n",
      "Entering 'Model.training_step' method, batch_idx=7\n",
      "Entering 'Model.training_step' method, batch_idx=8\n",
      "Entering 'Model.training_step' method, batch_idx=9\n",
      "Entering 'Model.training_step' method, batch_idx=10\n"
     ]
    },
    {
     "name": "stderr",
     "output_type": "stream",
     "text": [
      "GPU available: False, used: False\n",
      "TPU available: False, using: 0 TPU cores\n",
      "IPU available: False, using: 0 IPUs\n",
      "HPU available: False, using: 0 HPUs\n"
     ]
    },
    {
     "ename": "ValueError",
     "evalue": "`.test()` found no path for the best weights: ''. Please specify a path for a checkpoint `.test(ckpt_path=PATH)`",
     "output_type": "error",
     "traceback": [
      "\u001b[0;31m---------------------------------------------------------------------------\u001b[0m",
      "\u001b[0;31mValueError\u001b[0m                                Traceback (most recent call last)",
      "\u001b[0;32m/tmp/ipykernel_168/3430799317.py\u001b[0m in \u001b[0;36m<cell line: 1>\u001b[0;34m()\u001b[0m\n\u001b[0;32m----> 1\u001b[0;31m \u001b[0mmain\u001b[0m\u001b[0;34m(\u001b[0m\u001b[0;36m1\u001b[0m\u001b[0;34m)\u001b[0m\u001b[0;34m\u001b[0m\u001b[0;34m\u001b[0m\u001b[0m\n\u001b[0m",
      "\u001b[0;32m/tmp/ipykernel_168/2914028585.py\u001b[0m in \u001b[0;36mmain\u001b[0;34m(pid)\u001b[0m\n\u001b[1;32m      8\u001b[0m     \u001b[0mparams\u001b[0m\u001b[0;34m.\u001b[0m\u001b[0md\u001b[0m\u001b[0;34m[\u001b[0m\u001b[0;34m\"gpus\"\u001b[0m\u001b[0;34m]\u001b[0m \u001b[0;34m=\u001b[0m \u001b[0;36m0\u001b[0m\u001b[0;34m\u001b[0m\u001b[0;34m\u001b[0m\u001b[0m\n\u001b[1;32m      9\u001b[0m     \u001b[0mconductor\u001b[0m \u001b[0;34m=\u001b[0m \u001b[0mMConductor\u001b[0m\u001b[0;34m(\u001b[0m\u001b[0mparams\u001b[0m\u001b[0;34m,\u001b[0m \u001b[0mverbose_model\u001b[0m\u001b[0;34m=\u001b[0m \u001b[0;32mTrue\u001b[0m\u001b[0;34m)\u001b[0m\u001b[0;34m\u001b[0m\u001b[0;34m\u001b[0m\u001b[0m\n\u001b[0;32m---> 10\u001b[0;31m     \u001b[0mconductor\u001b[0m\u001b[0;34m.\u001b[0m\u001b[0mrun\u001b[0m\u001b[0;34m(\u001b[0m\u001b[0;34m)\u001b[0m\u001b[0;34m\u001b[0m\u001b[0;34m\u001b[0m\u001b[0m\n\u001b[0m",
      "\u001b[0;32m~/sagemaker-studiolab-notebooks/SentenceAx/MConductor.py\u001b[0m in \u001b[0;36mrun\u001b[0;34m(self, pred_in_fp)\u001b[0m\n\u001b[1;32m    774\u001b[0m                 \u001b[0mgetattr\u001b[0m\u001b[0;34m(\u001b[0m\u001b[0mself\u001b[0m\u001b[0;34m,\u001b[0m \u001b[0mprocess\u001b[0m\u001b[0;34m)\u001b[0m\u001b[0;34m(\u001b[0m\u001b[0mpred_in_fp\u001b[0m\u001b[0;34m)\u001b[0m\u001b[0;34m\u001b[0m\u001b[0;34m\u001b[0m\u001b[0m\n\u001b[1;32m    775\u001b[0m             \u001b[0;32melse\u001b[0m\u001b[0;34m:\u001b[0m\u001b[0;34m\u001b[0m\u001b[0;34m\u001b[0m\u001b[0m\n\u001b[0;32m--> 776\u001b[0;31m                 \u001b[0mgetattr\u001b[0m\u001b[0;34m(\u001b[0m\u001b[0mself\u001b[0m\u001b[0;34m,\u001b[0m \u001b[0mprocess\u001b[0m\u001b[0;34m)\u001b[0m\u001b[0;34m(\u001b[0m\u001b[0;34m)\u001b[0m\u001b[0;34m\u001b[0m\u001b[0;34m\u001b[0m\u001b[0m\n\u001b[0m\u001b[1;32m    777\u001b[0m \u001b[0;34m\u001b[0m\u001b[0m\n\u001b[1;32m    778\u001b[0m \u001b[0;34m\u001b[0m\u001b[0m\n",
      "\u001b[0;32m~/sagemaker-studiolab-notebooks/SentenceAx/MConductor.py\u001b[0m in \u001b[0;36mtest\u001b[0;34m(self)\u001b[0m\n\u001b[1;32m    368\u001b[0m                 \u001b[0;31m# trainer.fit() and trainer.test() are different\u001b[0m\u001b[0;34m\u001b[0m\u001b[0;34m\u001b[0m\u001b[0m\n\u001b[1;32m    369\u001b[0m                 \u001b[0mtest_dloader\u001b[0m \u001b[0;34m=\u001b[0m \u001b[0mself\u001b[0m\u001b[0;34m.\u001b[0m\u001b[0mdloader_tool\u001b[0m\u001b[0;34m.\u001b[0m\u001b[0mtest_dloader\u001b[0m\u001b[0;34m\u001b[0m\u001b[0;34m\u001b[0m\u001b[0m\n\u001b[0;32m--> 370\u001b[0;31m                 trainer.test(model=self.model, \n\u001b[0m\u001b[1;32m    371\u001b[0m                              \u001b[0mdataloaders\u001b[0m\u001b[0;34m=\u001b[0m\u001b[0mtest_dloader\u001b[0m\u001b[0;34m,\u001b[0m\u001b[0;34m\u001b[0m\u001b[0;34m\u001b[0m\u001b[0m\n\u001b[1;32m    372\u001b[0m                              ckpt_path=checkpoint_fp)\n",
      "\u001b[0;32m~/.conda/envs/default/lib/python3.9/site-packages/lightning/pytorch/trainer/trainer.py\u001b[0m in \u001b[0;36mtest\u001b[0;34m(self, model, dataloaders, ckpt_path, verbose, datamodule)\u001b[0m\n\u001b[1;32m    753\u001b[0m         \u001b[0mself\u001b[0m\u001b[0;34m.\u001b[0m\u001b[0mstate\u001b[0m\u001b[0;34m.\u001b[0m\u001b[0mstatus\u001b[0m \u001b[0;34m=\u001b[0m \u001b[0mTrainerStatus\u001b[0m\u001b[0;34m.\u001b[0m\u001b[0mRUNNING\u001b[0m\u001b[0;34m\u001b[0m\u001b[0;34m\u001b[0m\u001b[0m\n\u001b[1;32m    754\u001b[0m         \u001b[0mself\u001b[0m\u001b[0;34m.\u001b[0m\u001b[0mtesting\u001b[0m \u001b[0;34m=\u001b[0m \u001b[0;32mTrue\u001b[0m\u001b[0;34m\u001b[0m\u001b[0;34m\u001b[0m\u001b[0m\n\u001b[0;32m--> 755\u001b[0;31m         return call._call_and_handle_interrupt(\n\u001b[0m\u001b[1;32m    756\u001b[0m             \u001b[0mself\u001b[0m\u001b[0;34m,\u001b[0m \u001b[0mself\u001b[0m\u001b[0;34m.\u001b[0m\u001b[0m_test_impl\u001b[0m\u001b[0;34m,\u001b[0m \u001b[0mmodel\u001b[0m\u001b[0;34m,\u001b[0m \u001b[0mdataloaders\u001b[0m\u001b[0;34m,\u001b[0m \u001b[0mckpt_path\u001b[0m\u001b[0;34m,\u001b[0m \u001b[0mverbose\u001b[0m\u001b[0;34m,\u001b[0m \u001b[0mdatamodule\u001b[0m\u001b[0;34m\u001b[0m\u001b[0;34m\u001b[0m\u001b[0m\n\u001b[1;32m    757\u001b[0m         )\n",
      "\u001b[0;32m~/.conda/envs/default/lib/python3.9/site-packages/lightning/pytorch/trainer/call.py\u001b[0m in \u001b[0;36m_call_and_handle_interrupt\u001b[0;34m(trainer, trainer_fn, *args, **kwargs)\u001b[0m\n\u001b[1;32m     42\u001b[0m         \u001b[0;32mif\u001b[0m \u001b[0mtrainer\u001b[0m\u001b[0;34m.\u001b[0m\u001b[0mstrategy\u001b[0m\u001b[0;34m.\u001b[0m\u001b[0mlauncher\u001b[0m \u001b[0;32mis\u001b[0m \u001b[0;32mnot\u001b[0m \u001b[0;32mNone\u001b[0m\u001b[0;34m:\u001b[0m\u001b[0;34m\u001b[0m\u001b[0;34m\u001b[0m\u001b[0m\n\u001b[1;32m     43\u001b[0m             \u001b[0;32mreturn\u001b[0m \u001b[0mtrainer\u001b[0m\u001b[0;34m.\u001b[0m\u001b[0mstrategy\u001b[0m\u001b[0;34m.\u001b[0m\u001b[0mlauncher\u001b[0m\u001b[0;34m.\u001b[0m\u001b[0mlaunch\u001b[0m\u001b[0;34m(\u001b[0m\u001b[0mtrainer_fn\u001b[0m\u001b[0;34m,\u001b[0m \u001b[0;34m*\u001b[0m\u001b[0margs\u001b[0m\u001b[0;34m,\u001b[0m \u001b[0mtrainer\u001b[0m\u001b[0;34m=\u001b[0m\u001b[0mtrainer\u001b[0m\u001b[0;34m,\u001b[0m \u001b[0;34m**\u001b[0m\u001b[0mkwargs\u001b[0m\u001b[0;34m)\u001b[0m\u001b[0;34m\u001b[0m\u001b[0;34m\u001b[0m\u001b[0m\n\u001b[0;32m---> 44\u001b[0;31m         \u001b[0;32mreturn\u001b[0m \u001b[0mtrainer_fn\u001b[0m\u001b[0;34m(\u001b[0m\u001b[0;34m*\u001b[0m\u001b[0margs\u001b[0m\u001b[0;34m,\u001b[0m \u001b[0;34m**\u001b[0m\u001b[0mkwargs\u001b[0m\u001b[0;34m)\u001b[0m\u001b[0;34m\u001b[0m\u001b[0;34m\u001b[0m\u001b[0m\n\u001b[0m\u001b[1;32m     45\u001b[0m \u001b[0;34m\u001b[0m\u001b[0m\n\u001b[1;32m     46\u001b[0m     \u001b[0;32mexcept\u001b[0m \u001b[0m_TunerExitException\u001b[0m\u001b[0;34m:\u001b[0m\u001b[0;34m\u001b[0m\u001b[0;34m\u001b[0m\u001b[0m\n",
      "\u001b[0;32m~/.conda/envs/default/lib/python3.9/site-packages/lightning/pytorch/trainer/trainer.py\u001b[0m in \u001b[0;36m_test_impl\u001b[0;34m(self, model, dataloaders, ckpt_path, verbose, datamodule)\u001b[0m\n\u001b[1;32m    790\u001b[0m \u001b[0;34m\u001b[0m\u001b[0m\n\u001b[1;32m    791\u001b[0m         \u001b[0;32massert\u001b[0m \u001b[0mself\u001b[0m\u001b[0;34m.\u001b[0m\u001b[0mstate\u001b[0m\u001b[0;34m.\u001b[0m\u001b[0mfn\u001b[0m \u001b[0;32mis\u001b[0m \u001b[0;32mnot\u001b[0m \u001b[0;32mNone\u001b[0m\u001b[0;34m\u001b[0m\u001b[0;34m\u001b[0m\u001b[0m\n\u001b[0;32m--> 792\u001b[0;31m         ckpt_path = self._checkpoint_connector._select_ckpt_path(\n\u001b[0m\u001b[1;32m    793\u001b[0m             \u001b[0mself\u001b[0m\u001b[0;34m.\u001b[0m\u001b[0mstate\u001b[0m\u001b[0;34m.\u001b[0m\u001b[0mfn\u001b[0m\u001b[0;34m,\u001b[0m \u001b[0mckpt_path\u001b[0m\u001b[0;34m,\u001b[0m \u001b[0mmodel_provided\u001b[0m\u001b[0;34m=\u001b[0m\u001b[0mmodel_provided\u001b[0m\u001b[0;34m,\u001b[0m \u001b[0mmodel_connected\u001b[0m\u001b[0;34m=\u001b[0m\u001b[0mself\u001b[0m\u001b[0;34m.\u001b[0m\u001b[0mlightning_module\u001b[0m \u001b[0;32mis\u001b[0m \u001b[0;32mnot\u001b[0m \u001b[0;32mNone\u001b[0m\u001b[0;34m\u001b[0m\u001b[0;34m\u001b[0m\u001b[0m\n\u001b[1;32m    794\u001b[0m         )\n",
      "\u001b[0;32m~/.conda/envs/default/lib/python3.9/site-packages/lightning/pytorch/trainer/connectors/checkpoint_connector.py\u001b[0m in \u001b[0;36m_select_ckpt_path\u001b[0;34m(self, state_fn, ckpt_path, model_provided, model_connected)\u001b[0m\n\u001b[1;32m    102\u001b[0m                 \u001b[0mckpt_path\u001b[0m \u001b[0;34m=\u001b[0m \u001b[0mself\u001b[0m\u001b[0;34m.\u001b[0m\u001b[0m_ckpt_path\u001b[0m\u001b[0;34m\u001b[0m\u001b[0;34m\u001b[0m\u001b[0m\n\u001b[1;32m    103\u001b[0m         \u001b[0;32melse\u001b[0m\u001b[0;34m:\u001b[0m\u001b[0;34m\u001b[0m\u001b[0;34m\u001b[0m\u001b[0m\n\u001b[0;32m--> 104\u001b[0;31m             ckpt_path = self._parse_ckpt_path(\n\u001b[0m\u001b[1;32m    105\u001b[0m                 \u001b[0mstate_fn\u001b[0m\u001b[0;34m,\u001b[0m\u001b[0;34m\u001b[0m\u001b[0;34m\u001b[0m\u001b[0m\n\u001b[1;32m    106\u001b[0m                 \u001b[0mckpt_path\u001b[0m\u001b[0;34m,\u001b[0m\u001b[0;34m\u001b[0m\u001b[0;34m\u001b[0m\u001b[0m\n",
      "\u001b[0;32m~/.conda/envs/default/lib/python3.9/site-packages/lightning/pytorch/trainer/connectors/checkpoint_connector.py\u001b[0m in \u001b[0;36m_parse_ckpt_path\u001b[0;34m(self, state_fn, ckpt_path, model_provided, model_connected)\u001b[0m\n\u001b[1;32m    200\u001b[0m \u001b[0;34m\u001b[0m\u001b[0m\n\u001b[1;32m    201\u001b[0m         \u001b[0;32mif\u001b[0m \u001b[0;32mnot\u001b[0m \u001b[0mckpt_path\u001b[0m\u001b[0;34m:\u001b[0m\u001b[0;34m\u001b[0m\u001b[0;34m\u001b[0m\u001b[0m\n\u001b[0;32m--> 202\u001b[0;31m             raise ValueError(\n\u001b[0m\u001b[1;32m    203\u001b[0m                 \u001b[0;34mf\"`.{fn}()` found no path for the best weights: {ckpt_path!r}. Please\"\u001b[0m\u001b[0;34m\u001b[0m\u001b[0;34m\u001b[0m\u001b[0m\n\u001b[1;32m    204\u001b[0m                 \u001b[0;34mf\" specify a path for a checkpoint `.{fn}(ckpt_path=PATH)`\"\u001b[0m\u001b[0;34m\u001b[0m\u001b[0;34m\u001b[0m\u001b[0m\n",
      "\u001b[0;31mValueError\u001b[0m: `.test()` found no path for the best weights: ''. Please specify a path for a checkpoint `.test(ckpt_path=PATH)`"
     ]
    }
   ],
   "source": [
    "main(1)"
   ]
  }
 ],
 "metadata": {
  "kernelspec": {
   "display_name": "default:Python",
   "language": "python",
   "name": "conda-env-default-py"
  },
  "language_info": {
   "codemirror_mode": {
    "name": "ipython",
    "version": 3
   },
   "file_extension": ".py",
   "mimetype": "text/x-python",
   "name": "python",
   "nbconvert_exporter": "python",
   "pygments_lexer": "ipython3",
   "version": "3.9.16"
  }
 },
 "nbformat": 4,
 "nbformat_minor": 5
}
