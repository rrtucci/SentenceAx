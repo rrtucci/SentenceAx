{
 "cells": [
  {
   "cell_type": "markdown",
   "id": "07c438f4-4a6c-48f1-be15-b60ad25888ca",
   "metadata": {},
   "source": [
    "# ex-train_test(pid=1)\n",
    "\n",
    "SentenceAx uses 2 NNs, one for task=\"ex\" and another for task=\"cc\". This notebook trains the fullly-fledged (not a warmup) NN for the task=\"ex\". \n",
    "\n",
    "<font color='red'>**NOTE: All checkpoint files (in the `weights/ex_model` directory) ending in \".ckpt\" are erased everytime this notebook is run.**</font>\n",
    "\n",
    "After running this notebook, append the suffix \".best\" (or something other than \".ckpt\") to the name of the checkpoint file that this notebook outputs. Otherwise, it will be erased in the next run. Furthermore, notebooks for predicting that need a weights file, won't find one, as they are designed to look for a weights file whose name ends in \"best\"."
   ]
  },
  {
   "cell_type": "code",
   "execution_count": null,
   "id": "3bdaa0e0-3004-4eaa-9877-bbca287eccd2",
   "metadata": {},
   "outputs": [],
   "source": [
    "# this makes sure it starts looking for things from the SentenceAx folder down.\n",
    "import os\n",
    "import sys\n",
    "os.chdir('../')\n",
    "sys.path.insert(0,os.getcwd())\n",
    "print(os.getcwd())"
   ]
  },
  {
   "cell_type": "code",
   "execution_count": null,
   "id": "b0f9fa23-d7c2-4c5a-a16f-38dfd02c2f89",
   "metadata": {
    "tags": []
   },
   "outputs": [],
   "source": [
    "os.environ[\"TOKENIZERS_PARALLELISM\"] = \"false\"\n",
    "print(os.environ[\"TOKENIZERS_PARALLELISM\"])"
   ]
  },
  {
   "cell_type": "code",
   "execution_count": null,
   "id": "480933d7-84ce-4f41-ad8c-939ed3f9d9cf",
   "metadata": {},
   "outputs": [],
   "source": [
    "# Nick Marino advice:\n",
    "# This prevents a PC from falling asleep before completing GPU accelerated task\n",
    "os.environ[\"CUDA_LAUNCH_BLOCKING\"] = \"1\"\n",
    "print(os.environ[\"CUDA_LAUNCH_BLOCKING\"])"
   ]
  },
  {
   "cell_type": "code",
   "execution_count": null,
   "id": "bf61af3b-4c82-4860-9641-e631e5107e5c",
   "metadata": {},
   "outputs": [],
   "source": [
    "from Params import *\n",
    "from ActionConductor import *\n",
    "\n",
    "\n",
    "def main(pid):\n",
    "    params = Params(pid)\n",
    "    params.d[\"refresh_cache\"] = True\n",
    "    params.d[\"gpus\"] = 1\n",
    "    params.describe_self()\n",
    "    conductor = ActionConductor(params)\n",
    "    conductor.delete_all_checkpoints()\n",
    "    print(\"checkpoints:\", conductor.get_all_checkpoint_fp())\n",
    "    conductor.run()\n",
    "    print(\"checkpoints:\", conductor.get_all_checkpoint_fp())"
   ]
  },
  {
   "cell_type": "code",
   "execution_count": null,
   "id": "2a2a9f60-9297-4129-8dd0-edc71196421d",
   "metadata": {
    "tags": []
   },
   "outputs": [],
   "source": [
    "main(1)"
   ]
  }
 ],
 "metadata": {
  "kernelspec": {
   "display_name": "Python 3 (ipykernel)",
   "language": "python",
   "name": "python3"
  },
  "language_info": {
   "codemirror_mode": {
    "name": "ipython",
    "version": 3
   },
   "file_extension": ".py",
   "mimetype": "text/x-python",
   "name": "python",
   "nbconvert_exporter": "python",
   "pygments_lexer": "ipython3",
   "version": "3.10.9"
  },
  "widgets": {
   "application/vnd.jupyter.widget-state+json": {
    "state": {},
    "version_major": 2,
    "version_minor": 0
   }
  }
 },
 "nbformat": 4,
 "nbformat_minor": 5
}
