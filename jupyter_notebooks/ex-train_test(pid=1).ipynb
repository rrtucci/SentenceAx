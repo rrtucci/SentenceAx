{
 "cells": [
  {
   "cell_type": "markdown",
   "id": "07c438f4-4a6c-48f1-be15-b60ad25888ca",
   "metadata": {},
   "source": [
    "# ex-train_test(pid=1)"
   ]
  },
  {
   "cell_type": "code",
   "execution_count": null,
   "id": "e14300b7-a472-4a95-b5e7-83bfb002322d",
   "metadata": {},
   "outputs": [],
   "source": [
    "def main(pid):\n",
    "    params = Params(pid)\n",
    "    params.d[\"gpus\"] = 0\n",
    "    conductor = MConductor(params)\n",
    "    conductor.run()"
   ]
  },
  {
   "cell_type": "code",
   "execution_count": null,
   "id": "2a2a9f60-9297-4129-8dd0-edc71196421d",
   "metadata": {},
   "outputs": [],
   "source": [
    "main(1)"
   ]
  }
 ],
 "metadata": {
  "kernelspec": {
   "display_name": "Python 3 (ipykernel)",
   "language": "python",
   "name": "python3"
  },
  "language_info": {
   "codemirror_mode": {
    "name": "ipython",
    "version": 3
   },
   "file_extension": ".py",
   "mimetype": "text/x-python",
   "name": "python",
   "nbconvert_exporter": "python",
   "pygments_lexer": "ipython3",
   "version": "3.10.9"
  }
 },
 "nbformat": 4,
 "nbformat_minor": 5
}
