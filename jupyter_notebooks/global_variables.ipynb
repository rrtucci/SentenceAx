{
 "cells": [
  {
   "cell_type": "markdown",
   "id": "b16ab073-e68d-49d6-bb12-aaa680b80362",
   "metadata": {},
   "source": [
    "# Global Variables\n",
    "\n",
    "This notebook prints the global variables in the file `sax_globals.py`."
   ]
  },
  {
   "cell_type": "code",
   "execution_count": 1,
   "id": "fae89236-fc84-48cb-b038-ddb21d472f09",
   "metadata": {},
   "outputs": [
    {
     "name": "stdout",
     "output_type": "stream",
     "text": [
      "C:\\Users\\rrtuc\\Desktop\\backed-up\\python-projects\\SentenceAx\n"
     ]
    }
   ],
   "source": [
    "# this makes sure it starts looking for things from the SentenceAx folder down.\n",
    "import os\n",
    "import sys\n",
    "os.chdir('../')\n",
    "sys.path.insert(0,os.getcwd())\n",
    "print(os.getcwd())"
   ]
  },
  {
   "cell_type": "code",
   "execution_count": 2,
   "id": "e7486e5b-fd52-4c37-9b1a-c8b9995b433c",
   "metadata": {
    "tags": []
   },
   "outputs": [
    {
     "name": "stdout",
     "output_type": "stream",
     "text": [
      "Global Variables in:  sax_globals.py\n",
      "-------------------\n",
      "SAMPLE_SEPARATOR: [%@!]\n",
      "SEED: 777\n",
      "NAN: 0\n",
      "FANBOYS: ['for', 'and', 'nor', 'but', 'or', 'yet', 'so']\n",
      "USE_POS_INFO: True\n",
      "CC_METRIC_SAVE: True\n",
      "INPUT_DIR: input_data\n",
      "CACHE_DIR: cache\n",
      "PREDICTING_DIR: predicting\n",
      "LOGS_DIR: logs\n",
      "CC_METRIC_STORAGE_DIR: cc_metric_storage\n",
      "M_OUT_DIR: predicting/model_output\n",
      "TRAIN_CCTAGS_FP: input_data/openie-data/ptb-train.labels\n",
      "SMALL_TRAIN_CCTAGS_FP: tests/small_cctags.txt\n",
      "TUNE_CCTAGS_FP: input_data/openie-data/ptb-dev.labels\n",
      "TEST_CCTAGS_FP: input_data/openie-data/ptb-test.labels\n",
      "TRAIN_EXTAGS_FP: input_data/openie-data/openie4_labels\n",
      "SMALL_TRAIN_EXTAGS_FP: tests/small_extags.txt\n",
      "TUNE_EXTAGS_FP: input_data/carb-data/dev.txt\n",
      "TEST_EXTAGS_FP: input_data/carb-data/test.txt\n",
      "QUOTES: \"'\n",
      "BRACKETS: (){}[]<>\n",
      "SEPARATORS: ,:;&-\n",
      "ARITHMETICAL: *|\\/@#$%^+=~_\n",
      "ENDING: .?!\n",
      "PUNCT_MARKS: \"'(){}[]<>,:;&-*|\\/@#$%^+=~_.?!\n",
      "UNUSED_TOKENS: ['[unused1]', '[unused2]', '[unused3]']\n",
      "UNUSED_TOKENS_STR:  [unused1] [unused2] [unused3]\n",
      "PROB_DROPOUT: 0.0\n",
      "EX_NUM_DEPTHS: 5\n",
      "CC_NUM_DEPTHS: 3\n",
      "MAX_NUM_OSENTL_WORDS: 100\n",
      "PAD_ICODE: 0\n",
      "SEP_ICODE: 100\n",
      "BOS_ICODE: 101\n",
      "EOS_ICODE: 102\n",
      "NUM_ILABELS: 6\n",
      "MERGE_DIM: 300\n",
      "EXTAG_TO_ILABEL: {'NONE': 0, 'ARG1': 1, 'REL': 2, 'ARG2': 3, 'LOC': 4, 'TIME': 4, 'TYPE': 5, 'ARGS': 3}\n",
      "BASE_EXTAGS: dict_keys(['NONE', 'ARG1', 'REL', 'ARG2', 'LOC', 'TIME', 'TYPE', 'ARGS'])\n",
      "ILABEL_TO_EXTAG: {0: 'NONE', 1: 'ARG1', 2: 'REL', 3: 'ARG2', 4: 'ARG2', 5: 'NONE'}\n",
      "CCTAG_TO_ILABEL: {'NONE': 0, 'CP': 1, 'CP_START': 2, 'CC': 3, 'SEP': 4, 'OTHERS': 5}\n",
      "BASE_CCTAGS: dict_keys(['NONE', 'CP', 'CP_START', 'CC', 'SEP', 'OTHERS'])\n",
      "ILABEL_TO_CCTAG: {0: 'NONE', 1: 'CP', 2: 'CP_START', 3: 'CC', 4: 'SEP', 5: 'OTHERS'}\n",
      "LIGHT_VERBS: ['am', 'are', 'be', 'became', 'becomes', 'begin', 'began', 'begins', 'being', 'continue', 'continued', 'consider', 'do', 'does', 'did', 'following', 'get', 'gets', 'give', 'go', 'got', 'had', 'have', 'have', 'having', 'help', 'helped', 'include', 'included', 'includes', 'include', 'is', 'kept', 'keep', 'keeps', 'left', 'lets', 'make', 'means', 'said', 'say', 'see', 'start', 'started', 'starts', 'stop', 'suggest', 'take', 'think', 'try', 'used', 'were', 'was']\n",
      "UNBREAKABLE_WORDS: ['addition', 'aggregate', 'amount', 'among', 'average', 'between', 'center', 'equidistant', 'gross', 'mean', 'median', 'middle', 'sum', 'total', 'value']\n",
      "SAX_UNBREAKABLE_WORDS: ['between', 'sum']\n"
     ]
    }
   ],
   "source": [
    "from utils_gen import print_global_variables\n",
    "print_global_variables(\"sax_globals.py\")"
   ]
  },
  {
   "cell_type": "code",
   "execution_count": null,
   "id": "22838d1a-b386-4491-a507-4fd06bc9e126",
   "metadata": {},
   "outputs": [],
   "source": []
  }
 ],
 "metadata": {
  "kernelspec": {
   "display_name": "Python 3 (ipykernel)",
   "language": "python",
   "name": "python3"
  },
  "language_info": {
   "codemirror_mode": {
    "name": "ipython",
    "version": 3
   },
   "file_extension": ".py",
   "mimetype": "text/x-python",
   "name": "python",
   "nbconvert_exporter": "python",
   "pygments_lexer": "ipython3",
   "version": "3.10.9"
  }
 },
 "nbformat": 4,
 "nbformat_minor": 5
}
