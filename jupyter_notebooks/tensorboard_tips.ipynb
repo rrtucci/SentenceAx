{
 "cells": [
  {
   "cell_type": "markdown",
   "id": "99e9dd45-0a95-4f97-8265-28bccb1b9875",
   "metadata": {},
   "source": [
    "# Tensorboard tips\n",
    "\n",
    "make sure you have done \n",
    "\n",
    "    pip install tensorboard\n",
    "\n",
    "To view Tensorboard in Jupyter cell at end of run, do this\n",
    "\n",
    "\n",
    "    %reload_ext tensorboard\n",
    "    %tensorboard --logdir=logs/ex\n",
    "\n",
    "To view Tensorboard in browser during or at end of run, open terminal and do this\n",
    "\n",
    "    tensorboard --logdir=logs/ex\n",
    "    \n",
    "or \n",
    "\n",
    "    tensorboard --logdir=logs/cc\n",
    "\n",
    "IMP: There's a bug in Windows (it has been documented on the web) when you try to display tensorboard logs in a jupyter cell. If a folder named \".tensorboard-info\" exists, it must be deleted or tensorboard won't open.\n",
    "\n",
    "Tips:\n",
    "* There is no \"expand all\" button for expanding all the plots at once. However, if you search for _*, you will get a pane with all the plots in it.\n",
    "* You can open a public repo in HuggingFace, and upload your TensorBoard generated logs to it. If you do this, the logs can be viewed online by the public via TensorBoard running on the HuggingFace servers.\n",
    "* The plot with the Y axis labelled \"epoch\" took me a while to figure out. Its X axis can be chosen to measure either step number (like step 3), wall time (like 3:12 PM) or relative time (like 20:34 minutes since launch of experiment). Assume X=step_num=step number, Y=epoch. Then Y=epoch(X) should be a multi step function, but TensorBoard instead draws 2 attempts at smoothing that multi step function. When num_steps ~ 10 but num_epochs ~ 2, these two smoothing functions look weird. But if num_step ~ 1000 but num_epochs ~ 5, the two smoothing functions begin to merge and look like a multi step function."
   ]
  },
  {
   "cell_type": "markdown",
   "id": "6e445acb-446b-41e0-9762-cc72f60dee07",
   "metadata": {},
   "source": []
  }
 ],
 "metadata": {
  "kernelspec": {
   "display_name": "",
   "name": ""
  },
  "language_info": {
   "name": ""
  }
 },
 "nbformat": 4,
 "nbformat_minor": 5
}
