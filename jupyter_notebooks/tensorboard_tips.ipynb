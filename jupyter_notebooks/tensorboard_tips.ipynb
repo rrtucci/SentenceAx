{
 "cells": [
  {
   "cell_type": "markdown",
   "id": "99e9dd45-0a95-4f97-8265-28bccb1b9875",
   "metadata": {},
   "source": [
    "# Tensorboard (TB) tips\n",
    "\n",
    "make sure you have done \n",
    "\n",
    "    pip install tensorboard\n",
    "\n",
    "To view TB in Jupyter cell at end of run, do this\n",
    "\n",
    "\n",
    "    %reload_ext tensorboard\n",
    "    %tensorboard --logdir=logs/ex\n",
    "\n",
    "\n",
    "To view TB in browser **during** or at end of run, open terminal and do this\n",
    "\n",
    "    tensorboard --logdir=logs/ex\n",
    "    \n",
    "(Replace logs/ex by logs/cc to view cc instead of ex folder. Also, replace \n",
    "logs/ex by logs_warmup/ex, and logs/cc by logs_warmup/cc to view the warmup results.)\n",
    "\n",
    "\n",
    "IMP: There's a bug in Windows (it has been documented on the web) when you try to display TB logs in a jupyter cell. If a folder named \".tensorboard-info\" exists, it must be deleted or TB won't open.\n",
    "\n",
    "Tips:\n",
    "* There is no \"expand all\" button for expanding all the plot panes at once. However, if you search for _*, you will get a pane with all the plots in it.\n",
    "\n",
    "* For every scalar plot (i.e., 2D plot, with time on the X axis), you see a smoothed out curve-fit and a fainter unsmoothed curve fit. You can control the amount of smoothing of the smoothed one via a slider. When the smoothing is zero, the smoothed (unfaint) and unsmoothed (faint) curve-fits  coincide.\n",
    "\n",
    "* A menu allows one to choose among 3 options for time units along the X axis: \n",
    "    1. step number (e.g.,  step 3), \n",
    "    2. wall time (e.g.,  3:12 PM) \n",
    "    3. relative time (e.g.,  20:34 minutes since launch of experiment).\n",
    "\n",
    "* The plot with the Y axis labelled \"epoch\" took me a while to figure out. Assume X= step number, Y=epoch. Then the map X->Y is a **finite set of points** (FSP). Confusingly, instead of plotting that FSP, TB shows only two **continuous curve fits** (CCF) to that FSP, a smooth curve fit and an unsmoothed one (fainter). They could have plotted both the FSP (what is called a scatter plot) and the two CCFs, but instead plotted only the CCFs. When num_steps ~ 10 and num_epochs ~ 2, these two CCFs look weird because the number of points in the FSP is small (just 20). But if num_step ~ 1,000 and num_epochs ~ 5, then the number of points in the FSP grows (5000), and the two CCFs and the FSP start to merge. A fractional number of epochs does have an intuitive meaning: if 10.45 epochs have transpired, and the number of steps per epoch is 1,000, then 10,450 steps have transpired."
   ]
  },
  {
   "cell_type": "markdown",
   "id": "6e445acb-446b-41e0-9762-cc72f60dee07",
   "metadata": {},
   "source": []
  },
  {
   "cell_type": "code",
   "execution_count": null,
   "id": "851a0c03-95d7-492d-aa3b-a887820cb1c3",
   "metadata": {},
   "outputs": [],
   "source": []
  }
 ],
 "metadata": {
  "kernelspec": {
   "display_name": "",
   "name": ""
  },
  "language_info": {
   "name": ""
  }
 },
 "nbformat": 4,
 "nbformat_minor": 5
}
