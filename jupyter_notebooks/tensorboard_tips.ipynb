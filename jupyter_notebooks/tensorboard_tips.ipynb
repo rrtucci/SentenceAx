{
 "cells": [
  {
   "cell_type": "markdown",
   "id": "99e9dd45-0a95-4f97-8265-28bccb1b9875",
   "metadata": {},
   "source": [
    "# Tensorboard tips\n",
    "\n",
    "make sure you have done \n",
    "\n",
    "    pip install tensorboard\n",
    "\n",
    "To view Tensorboard in Jupyter cell after run is finished, do this\n",
    "\n",
    "\n",
    "    %reload_ext tensorboard\n",
    "    %tensorboard --logdir=logs/ex\n",
    "\n",
    "To view Tensorboard in browser after run is finished, open terminal and do this\n",
    "\n",
    "    tensorboard --logdir=logs/ex/\n",
    "\n",
    "I prefer viewing in a browser because there's a bug in Windows when try to display tensorboard logs in a jupyter cell. If a folder named \".tensorboard-info\" exists, it must be deleted or it won't display."
   ]
  },
  {
   "cell_type": "markdown",
   "id": "6e445acb-446b-41e0-9762-cc72f60dee07",
   "metadata": {},
   "source": []
  },
  {
   "cell_type": "code",
   "execution_count": null,
   "id": "ea81ebbb-cafd-4087-91af-e639c9d35cf6",
   "metadata": {},
   "outputs": [],
   "source": []
  }
 ],
 "metadata": {
  "kernelspec": {
   "display_name": "",
   "name": ""
  },
  "language_info": {
   "name": ""
  }
 },
 "nbformat": 4,
 "nbformat_minor": 5
}
