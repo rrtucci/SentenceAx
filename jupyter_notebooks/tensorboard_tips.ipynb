{
 "cells": [
  {
   "cell_type": "markdown",
   "id": "99e9dd45-0a95-4f97-8265-28bccb1b9875",
   "metadata": {},
   "source": [
    "# Tensorboard tips\n",
    "\n",
    "make sure you have done \n",
    "\n",
    "    pip install tensorboard\n",
    "\n",
    "To view Tensorboard in Jupyter cell at end of run, do this\n",
    "\n",
    "\n",
    "    %reload_ext tensorboard\n",
    "    %tensorboard --logdir=logs/ex\n",
    "\n",
    "To view Tensorboard in browser during or at end of run, open terminal and do this\n",
    "\n",
    "    tensorboard --logdir=logs/ex\n",
    "    \n",
    "or \n",
    "\n",
    "    tensorboard --logdir=logs/cc\n",
    "\n",
    "IMP: There's a bug in Windows (it has been documented on the web) when you try to display tensorboard logs in a jupyter cell. If a folder named \".tensorboard-info\" exists, it must be deleted or tensorboard won't open.\n",
    "\n",
    "Tips:\n",
    "* There is no \"expand all\" button for expanding all the plots at once. However, if you search for _*, you will get a pane with all the plots in it.\n",
    "* You can open a public repo in HuggingFace, and upload your TensorBoard generated logs to it. If you do this, the logs can be viewed online by the public via TensorBoard running on the HuggingFace servers."
   ]
  },
  {
   "cell_type": "markdown",
   "id": "6e445acb-446b-41e0-9762-cc72f60dee07",
   "metadata": {},
   "source": []
  }
 ],
 "metadata": {
  "kernelspec": {
   "display_name": "",
   "name": ""
  },
  "language_info": {
   "name": ""
  }
 },
 "nbformat": 4,
 "nbformat_minor": 5
}
