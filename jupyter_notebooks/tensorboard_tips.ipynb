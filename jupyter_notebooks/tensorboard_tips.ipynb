{
 "cells": [
  {
   "cell_type": "markdown",
   "id": "99e9dd45-0a95-4f97-8265-28bccb1b9875",
   "metadata": {},
   "source": [
    "# Tensorboard (TB) tips\n",
    "\n",
    "make sure you have done \n",
    "\n",
    "    pip install tensorboard\n",
    "\n",
    "To view TB in Jupyter cell at end of run, do this\n",
    "\n",
    "\n",
    "    %reload_ext tensorboard\n",
    "    %tensorboard --logdir=logs/ex\n",
    "\n",
    "To view TB in browser **during** or at end of run, open terminal and do this\n",
    "\n",
    "    tensorboard --logdir=logs/ex\n",
    "    \n",
    "or \n",
    "\n",
    "    tensorboard --logdir=logs/cc\n",
    "\n",
    "IMP: There's a bug in Windows (it has been documented on the web) when you try to display TB logs in a jupyter cell. If a folder named \".tensorboard-info\" exists, it must be deleted or TB won't open.\n",
    "\n",
    "Tips:\n",
    "* There is no \"expand all\" button for expanding all the plots at once. However, if you search for _*, you will get a pane with all the plots in it.\n",
    "* You can open a public repo in HuggingFace, and upload your TB generated logs to it. If you do this, the logs can be viewed online by the public via TB running on the HuggingFace servers.\n",
    "* The plot with the Y axis labelled \"epoch\" took me a while to figure out. Its X axis can be chosen to measure either step number (e.g.,  step 3), wall time (e.g.,  3:12 PM) or relative time (e.g.,  20:34 minutes since launch of experiment). Assume X=step_num=step number, Y=epoch. Then the map X->Y is a **finite set of points** (FSP). Confusingly, instead of plotting that DSP, TB shows only two **continuous curve fits** (CCF) to that FSP. They could have plotted both the FSP (what is called a scatter plot) and the two CCFs, but instead plotted only the CCFs. When num_steps ~ 10 but num_epochs ~ 2, these two CCFs look weird because the number of points in the FSP is small (just 20). But if num_step ~ 1000 but num_epochs ~ 5, then the number of points in the FSP grows (5000), and the two CCFs and the FSP start to merge."
   ]
  },
  {
   "cell_type": "markdown",
   "id": "6e445acb-446b-41e0-9762-cc72f60dee07",
   "metadata": {},
   "source": []
  }
 ],
 "metadata": {
  "kernelspec": {
   "display_name": "",
   "name": ""
  },
  "language_info": {
   "name": ""
  }
 },
 "nbformat": 4,
 "nbformat_minor": 5
}
